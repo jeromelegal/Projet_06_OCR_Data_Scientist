{
 "cells": [
  {
   "cell_type": "markdown",
   "id": "ef6fe3fe-2ae8-40bc-952f-c96478247db0",
   "metadata": {
    "id": "ef6fe3fe-2ae8-40bc-952f-c96478247db0"
   },
   "source": [
    "# Etape 5 : Faites la classification supervisée via CNN Transfer Learning"
   ]
  },
  {
   "cell_type": "markdown",
   "id": "1a30b6f8-e243-41aa-a529-6dbb315a33ec",
   "metadata": {
    "id": "1a30b6f8-e243-41aa-a529-6dbb315a33ec"
   },
   "source": [
    "Pour réaliser cette classification supervisée via CNN Transfer Learning, je partirai du dataset dont la **variable dépendante** sera notre cible `category` et nos **variables explicatives** seront les **features** extraites des images associées.  \n",
    "La stratégie globale est d'extraire les features de nos images en utilisant des couches convolutives du modèle pré-entrainé **vgg-16** et de remplacer les couches denses, de classification par des couches appropriées à notre étude (détails dans le paragraphe 'Modélisation').  \n",
    "Le modèle sera testé sur le dataset tel quel et ensuite avec l'ajout de données par **Data Augmentation**."
   ]
  },
  {
   "cell_type": "markdown",
   "id": "cacc660f-ab99-4c0f-bef5-5e55148eef5a",
   "metadata": {},
   "source": [
    "---\n",
    "##### Optionnel - pour Colab"
   ]
  },
  {
   "cell_type": "code",
   "execution_count": null,
   "id": "68911e3d-f1bf-4851-a3b8-9a84b54e90ef",
   "metadata": {},
   "outputs": [],
   "source": [
    "from google.colab import drive\n",
    "drive.mount('/content/drive')"
   ]
  },
  {
   "cell_type": "code",
   "execution_count": null,
   "id": "9f7962ce-81a9-4362-bdf0-a9931b6d1fb6",
   "metadata": {},
   "outputs": [],
   "source": [
    "!pip install keras_tuner"
   ]
  },
  {
   "cell_type": "markdown",
   "id": "f32e856d-43d2-4fb8-8f3d-cd53af7e28a8",
   "metadata": {},
   "source": [
    "#####  \n",
    "---"
   ]
  },
  {
   "cell_type": "markdown",
   "id": "e829cac6-a887-43da-9eb5-bb3530e439e1",
   "metadata": {
    "id": "e829cac6-a887-43da-9eb5-bb3530e439e1"
   },
   "source": [
    "##### **Importation des librairies :**"
   ]
  },
  {
   "cell_type": "code",
   "execution_count": 79,
   "id": "f590ce18-0396-437a-a8c8-d2bb0943247a",
   "metadata": {
    "id": "f590ce18-0396-437a-a8c8-d2bb0943247a"
   },
   "outputs": [],
   "source": [
    "# builtin libraries\n",
    "\n",
    "from os import listdir\n",
    "import os\n",
    "import time\n",
    "\n",
    "# data\n",
    "\n",
    "import numpy as np\n",
    "import pandas as pd\n",
    "\n",
    "# viz\n",
    "\n",
    "from IPython.display import display\n",
    "import matplotlib.pyplot as plt\n",
    "from matplotlib.ticker import FuncFormatter\n",
    "import seaborn as sns\n",
    "\n",
    "# deep learning\n",
    "\n",
    "from sklearn.preprocessing import LabelEncoder\n",
    "from tensorflow.keras.preprocessing.image import ImageDataGenerator\n",
    "#from tensorflow.keras.preprocessing import image\n",
    "from tensorflow.keras.applications.vgg16 import VGG16\n",
    "from tensorflow.keras.applications.vgg16 import preprocess_input\n",
    "from tensorflow.keras.preprocessing.image import load_img, img_to_array\n",
    "from tensorflow.keras.models import Model, load_model, Sequential\n",
    "from tensorflow.keras.layers import GlobalAveragePooling2D, Dense, Dropout\n",
    "import tensorflow as tf\n",
    "from tensorflow import keras\n",
    "import keras_tuner as kt\n",
    "from sklearn.model_selection import train_test_split\n",
    "from tensorflow.keras.callbacks import EarlyStopping\n",
    "from tensorflow.keras.utils import to_categorical\n",
    "from tensorflow.keras.optimizers import Adam\n",
    "from tensorflow.keras import layers, models\n",
    "\n",
    "# optimization\n",
    "\n",
    "from joblib import Parallel, delayed, dump, load\n",
    "from sklearn.metrics.cluster import adjusted_rand_score"
   ]
  },
  {
   "cell_type": "code",
   "execution_count": 2,
   "id": "3154fddc-a373-4630-bcc8-163d3464ab4b",
   "metadata": {
    "id": "3154fddc-a373-4630-bcc8-163d3464ab4b"
   },
   "outputs": [],
   "source": [
    "import warnings\n",
    "warnings.filterwarnings('ignore')"
   ]
  },
  {
   "cell_type": "code",
   "execution_count": 3,
   "id": "099dada0-9c02-4755-a106-581cce4df8f9",
   "metadata": {
    "id": "099dada0-9c02-4755-a106-581cce4df8f9"
   },
   "outputs": [],
   "source": [
    "#os.environ[\"CUDA_VISIBLE_DEVICES\"] = \"-1\""
   ]
  },
  {
   "cell_type": "code",
   "execution_count": 13,
   "id": "01a58d99-ced9-4828-b1ef-39281ebb838e",
   "metadata": {
    "colab": {
     "base_uri": "https://localhost:8080/"
    },
    "id": "01a58d99-ced9-4828-b1ef-39281ebb838e",
    "outputId": "d9a4300d-26ce-412e-b7f8-5d3e37406024"
   },
   "outputs": [
    {
     "name": "stdout",
     "output_type": "stream",
     "text": [
      "Is GPU available: []\n"
     ]
    }
   ],
   "source": [
    "print(\"Is GPU available:\", tf.config.list_physical_devices('GPU'))"
   ]
  },
  {
   "cell_type": "markdown",
   "id": "831655e6-77eb-404c-9f4a-ebd97f40c6be",
   "metadata": {
    "id": "831655e6-77eb-404c-9f4a-ebd97f40c6be"
   },
   "source": [
    "---\n",
    "---\n",
    "## 5.1 - Préparation données :"
   ]
  },
  {
   "cell_type": "markdown",
   "id": "1806ab41-1387-45dc-8c7c-248ba0f27cae",
   "metadata": {
    "id": "1806ab41-1387-45dc-8c7c-248ba0f27cae"
   },
   "source": [
    "### 5.1.1 - Import dataset :"
   ]
  },
  {
   "cell_type": "code",
   "execution_count": 14,
   "id": "0b8c172f-7ea4-40ab-a127-7be22e55b242",
   "metadata": {
    "id": "0b8c172f-7ea4-40ab-a127-7be22e55b242"
   },
   "outputs": [],
   "source": [
    "# import dataframe with images names with categories\n",
    "\n",
    "# dataset = pd.read_csv('/content/drive/MyDrive/Projet_06/dataset_with_categories.csv') # Colab version\n",
    "dataset = pd.read_csv('./data/cleaned/dataset_with_categories.csv')"
   ]
  },
  {
   "cell_type": "code",
   "execution_count": 15,
   "id": "a55ef777-4ecc-4544-a850-9140eb7b2cfd",
   "metadata": {
    "colab": {
     "base_uri": "https://localhost:8080/"
    },
    "id": "a55ef777-4ecc-4544-a850-9140eb7b2cfd",
    "outputId": "90506e3c-c0a2-414c-b912-a310a2667616"
   },
   "outputs": [
    {
     "data": {
      "text/plain": [
       "(1050, 2)"
      ]
     },
     "execution_count": 15,
     "metadata": {},
     "output_type": "execute_result"
    }
   ],
   "source": [
    "# make a new dataframe with only images names and categories\n",
    "\n",
    "columns = ['image', 'category']\n",
    "df = dataset[columns]\n",
    "df.shape"
   ]
  },
  {
   "cell_type": "markdown",
   "id": "2a78d6ae-19ec-40ef-b490-aacae2a3dc20",
   "metadata": {
    "id": "2a78d6ae-19ec-40ef-b490-aacae2a3dc20"
   },
   "source": [
    "---\n",
    "### 5.1.2 - Encodage de la target :"
   ]
  },
  {
   "cell_type": "code",
   "execution_count": 16,
   "id": "3d5ec466-12d0-4da9-a032-2a12c549ab39",
   "metadata": {
    "colab": {
     "base_uri": "https://localhost:8080/"
    },
    "id": "3d5ec466-12d0-4da9-a032-2a12c549ab39",
    "outputId": "60cc6a47-083b-4341-8cf7-df013fe99758"
   },
   "outputs": [],
   "source": [
    "encoder = LabelEncoder()\n",
    "true_label_encoder = encoder.fit_transform(df['category'])\n",
    "df.loc[:,'encoded_category'] = true_label_encoder"
   ]
  },
  {
   "cell_type": "markdown",
   "id": "0565256a-ec4f-4fb9-aec1-b1f1f772ed83",
   "metadata": {
    "id": "0565256a-ec4f-4fb9-aec1-b1f1f772ed83"
   },
   "source": [
    "---\n",
    "### 5.1.3 - Préparation des images :"
   ]
  },
  {
   "cell_type": "code",
   "execution_count": 17,
   "id": "d788284f-56d9-481e-8d84-df7bc595d020",
   "metadata": {
    "id": "d788284f-56d9-481e-8d84-df7bc595d020"
   },
   "outputs": [],
   "source": [
    "# folder path\n",
    "\n",
    "#folder = \"/content/drive/MyDrive/Projet_06/Images/\" # Colab version\n",
    "folder = \"./data/Flipkart/Images/\""
   ]
  },
  {
   "cell_type": "code",
   "execution_count": 18,
   "id": "84c9ee0b-85e8-493b-ae1a-5549c808b3bf",
   "metadata": {
    "colab": {
     "base_uri": "https://localhost:8080/"
    },
    "id": "84c9ee0b-85e8-493b-ae1a-5549c808b3bf",
    "outputId": "80521208-3524-4d9c-d5eb-0497ba4546c6"
   },
   "outputs": [
    {
     "name": "stdout",
     "output_type": "stream",
     "text": [
      "There are 1050 images in the folder.\n"
     ]
    }
   ],
   "source": [
    "# make a list of every images in the folder\n",
    "\n",
    "list_images = df.image.to_list()\n",
    "print(f\"There are {len(list_images)} images in the folder.\")"
   ]
  },
  {
   "cell_type": "code",
   "execution_count": 19,
   "id": "4a2bf26d-02a3-4c10-88a6-341804ad1cc0",
   "metadata": {
    "colab": {
     "base_uri": "https://localhost:8080/",
     "height": 35
    },
    "id": "4a2bf26d-02a3-4c10-88a6-341804ad1cc0",
    "outputId": "330a3004-6429-4788-902b-1900e4078583"
   },
   "outputs": [
    {
     "data": {
      "text/plain": [
       "'66b75f053cb7626f49f1a9bffe77b451.jpg'"
      ]
     },
     "execution_count": 19,
     "metadata": {},
     "output_type": "execute_result"
    }
   ],
   "source": [
    "# image name example\n",
    "\n",
    "list_images[521]"
   ]
  },
  {
   "cell_type": "markdown",
   "id": "8160475a-4238-4823-bdb2-7c53525200bc",
   "metadata": {
    "id": "8160475a-4238-4823-bdb2-7c53525200bc"
   },
   "source": [
    "---\n",
    "---\n",
    "## 5.2 - Modélisation :"
   ]
  },
  {
   "cell_type": "markdown",
   "id": "3f3e8a1c-8fb4-4757-bd0f-cdf68f605b2c",
   "metadata": {
    "id": "3f3e8a1c-8fb4-4757-bd0f-cdf68f605b2c"
   },
   "source": [
    "Approches réalisées :\n",
    "* Pré-processing des images\n",
    "* Création du modèle\n",
    "* Entrainement modèle sans **Data augmentation**\n",
    "* Entraînement modèle avec **Data augmentation**"
   ]
  },
  {
   "cell_type": "markdown",
   "id": "12e23027-c3fb-44e8-8d7e-ce59c9db0806",
   "metadata": {
    "id": "12e23027-c3fb-44e8-8d7e-ce59c9db0806"
   },
   "source": [
    "**Data Augmentation :**  \n",
    "- **Définition** : Technique pour créer de nouvelles données à partir de données existantes par des transformations.\n",
    "- **Utilité** : Améliore la généralisation, réduit le surapprentissage, utile quand peu de données sont disponibles.\n",
    "- **Exemples de transformations** :\n",
    "  - Images : rotation, recadrage, inversion, ajout de bruit."
   ]
  },
  {
   "cell_type": "markdown",
   "id": "97a7c47d-2b81-442b-b24c-8aa00e9f71a9",
   "metadata": {
    "id": "97a7c47d-2b81-442b-b24c-8aa00e9f71a9"
   },
   "source": [
    "---\n",
    "### 5.2.1 - Pré-processing des images :"
   ]
  },
  {
   "cell_type": "markdown",
   "id": "86ceedc6-de46-478b-a8e6-4a4f82aee5b7",
   "metadata": {
    "id": "86ceedc6-de46-478b-a8e6-4a4f82aee5b7"
   },
   "source": [
    "Preprocessing"
   ]
  },
  {
   "cell_type": "code",
   "execution_count": 20,
   "id": "380ed298-9c07-4d6c-aa3b-08b466479085",
   "metadata": {
    "id": "380ed298-9c07-4d6c-aa3b-08b466479085"
   },
   "outputs": [],
   "source": [
    "def preprocess_image(i):\n",
    "    \"\"\"preprocess image for vgg-16 and return an array\"\"\"\n",
    "\n",
    "    filename = folder + list_images[i]\n",
    "    loaded_img = load_img(filename, target_size=(224, 224))\n",
    "    loaded_img = img_to_array(loaded_img)\n",
    "    loaded_img = np.expand_dims(loaded_img, axis=0)\n",
    "    loaded_img = preprocess_input(loaded_img)\n",
    "\n",
    "    return loaded_img"
   ]
  },
  {
   "cell_type": "code",
   "execution_count": 21,
   "id": "a7b00ca8-cd26-49fe-a2a8-47d7242954ab",
   "metadata": {
    "colab": {
     "base_uri": "https://localhost:8080/"
    },
    "id": "a7b00ca8-cd26-49fe-a2a8-47d7242954ab",
    "outputId": "de4451f8-54ee-4340-b4d8-84b2bebac612",
    "scrolled": true
   },
   "outputs": [
    {
     "name": "stderr",
     "output_type": "stream",
     "text": [
      "2025-01-04 17:41:26.481560: I tensorflow/core/platform/cpu_feature_guard.cc:193] This TensorFlow binary is optimized with oneAPI Deep Neural Network Library (oneDNN) to use the following CPU instructions in performance-critical operations:  SSE4.1 SSE4.2 AVX AVX2 AVX_VNNI FMA\n",
      "To enable them in other operations, rebuild TensorFlow with the appropriate compiler flags.\n",
      "2025-01-04 17:41:26.483589: I tensorflow/core/platform/cpu_feature_guard.cc:193] This TensorFlow binary is optimized with oneAPI Deep Neural Network Library (oneDNN) to use the following CPU instructions in performance-critical operations:  SSE4.1 SSE4.2 AVX AVX2 AVX_VNNI FMA\n",
      "To enable them in other operations, rebuild TensorFlow with the appropriate compiler flags.\n",
      "2025-01-04 17:41:26.489700: I tensorflow/core/platform/cpu_feature_guard.cc:193] This TensorFlow binary is optimized with oneAPI Deep Neural Network Library (oneDNN) to use the following CPU instructions in performance-critical operations:  SSE4.1 SSE4.2 AVX AVX2 AVX_VNNI FMA\n",
      "To enable them in other operations, rebuild TensorFlow with the appropriate compiler flags.\n",
      "2025-01-04 17:41:26.490378: I tensorflow/core/platform/cpu_feature_guard.cc:193] This TensorFlow binary is optimized with oneAPI Deep Neural Network Library (oneDNN) to use the following CPU instructions in performance-critical operations:  SSE4.1 SSE4.2 AVX AVX2 AVX_VNNI FMA\n",
      "To enable them in other operations, rebuild TensorFlow with the appropriate compiler flags.\n",
      "2025-01-04 17:41:26.496752: I tensorflow/core/platform/cpu_feature_guard.cc:193] This TensorFlow binary is optimized with oneAPI Deep Neural Network Library (oneDNN) to use the following CPU instructions in performance-critical operations:  SSE4.1 SSE4.2 AVX AVX2 AVX_VNNI FMA\n",
      "To enable them in other operations, rebuild TensorFlow with the appropriate compiler flags.\n",
      "2025-01-04 17:41:26.504850: I tensorflow/core/platform/cpu_feature_guard.cc:193] This TensorFlow binary is optimized with oneAPI Deep Neural Network Library (oneDNN) to use the following CPU instructions in performance-critical operations:  SSE4.1 SSE4.2 AVX AVX2 AVX_VNNI FMA\n",
      "To enable them in other operations, rebuild TensorFlow with the appropriate compiler flags.\n",
      "2025-01-04 17:41:26.507947: I tensorflow/core/platform/cpu_feature_guard.cc:193] This TensorFlow binary is optimized with oneAPI Deep Neural Network Library (oneDNN) to use the following CPU instructions in performance-critical operations:  SSE4.1 SSE4.2 AVX AVX2 AVX_VNNI FMA\n",
      "To enable them in other operations, rebuild TensorFlow with the appropriate compiler flags.\n",
      "2025-01-04 17:41:26.514009: I tensorflow/core/platform/cpu_feature_guard.cc:193] This TensorFlow binary is optimized with oneAPI Deep Neural Network Library (oneDNN) to use the following CPU instructions in performance-critical operations:  SSE4.1 SSE4.2 AVX AVX2 AVX_VNNI FMA\n",
      "To enable them in other operations, rebuild TensorFlow with the appropriate compiler flags.\n"
     ]
    },
    {
     "name": "stdout",
     "output_type": "stream",
     "text": [
      "It takes 3.6747279167175293 s.\n"
     ]
    }
   ],
   "source": [
    "# images pre-processing\n",
    "\n",
    "begin = time.time()\n",
    "preprocessed_array = Parallel(n_jobs=8)(\n",
    "    delayed(preprocess_image)(i) for i in range(len(list_images))\n",
    ")\n",
    "end = time.time()\n",
    "\n",
    "print(f\"It takes {end - begin} s.\")"
   ]
  },
  {
   "cell_type": "code",
   "execution_count": 22,
   "id": "98343b78-b032-46e8-8f9e-0aeb724317d5",
   "metadata": {
    "colab": {
     "base_uri": "https://localhost:8080/"
    },
    "id": "98343b78-b032-46e8-8f9e-0aeb724317d5",
    "outputId": "0f4e94b8-dabe-4c81-d7a0-fa8a5be1e9e7"
   },
   "outputs": [
    {
     "data": {
      "text/plain": [
       "(1050, 224, 224, 3)"
      ]
     },
     "execution_count": 22,
     "metadata": {},
     "output_type": "execute_result"
    }
   ],
   "source": [
    "# make array from list\n",
    "\n",
    "preprocessed_array = np.vstack(preprocessed_array)\n",
    "\n",
    "preprocessed_array.shape"
   ]
  },
  {
   "cell_type": "markdown",
   "id": "fe98e83a-7846-481c-bab8-978161061890",
   "metadata": {
    "id": "fe98e83a-7846-481c-bab8-978161061890"
   },
   "source": [
    "---\n",
    "### 5.2.2 - Split des données :"
   ]
  },
  {
   "cell_type": "markdown",
   "id": "db495b9d-0fe7-4046-8e7c-23d4bf227095",
   "metadata": {},
   "source": [
    "Afin d'éviter toute fuite d'information entre les jeux d'entrainement, de test et de validation, les précautions sont :\n",
    "* Séparation du dataset complet en **train** et **test** avec `train_test_split` de SciKit-Learn\n",
    "* Séparation du dataset **train** en **train_split** et **validation** `train_test_split` de SciKit-Learn pour la validation du **Tuner Keras**"
   ]
  },
  {
   "cell_type": "code",
   "execution_count": 82,
   "id": "c2ad4121-89f0-4843-8caf-677b43cadef0",
   "metadata": {
    "id": "c2ad4121-89f0-4843-8caf-677b43cadef0"
   },
   "outputs": [],
   "source": [
    "# split dataset to train and test\n",
    "\n",
    "X_train, X_test, y_train, y_test = train_test_split(preprocessed_array, df['encoded_category'], test_size=0.2, random_state=42)"
   ]
  },
  {
   "cell_type": "code",
   "execution_count": 83,
   "id": "f89eebab-3399-4377-b0d8-061935af58cd",
   "metadata": {
    "colab": {
     "base_uri": "https://localhost:8080/"
    },
    "id": "f89eebab-3399-4377-b0d8-061935af58cd",
    "outputId": "916133d6-503b-4a0d-af92-e040e6596453"
   },
   "outputs": [
    {
     "data": {
      "text/plain": [
       "(840, 224, 224, 3)"
      ]
     },
     "execution_count": 83,
     "metadata": {},
     "output_type": "execute_result"
    }
   ],
   "source": [
    "X_train.shape"
   ]
  },
  {
   "cell_type": "code",
   "execution_count": 84,
   "id": "9b20d79d-1655-45b3-b7aa-d192b4747a92",
   "metadata": {
    "id": "9b20d79d-1655-45b3-b7aa-d192b4747a92"
   },
   "outputs": [],
   "source": [
    "y_train_one_hot = to_categorical(y_train, num_classes=7)\n",
    "y_test_one_hot = to_categorical(y_test, num_classes=7)"
   ]
  },
  {
   "cell_type": "code",
   "execution_count": 85,
   "id": "4cd1ce0e-be12-4436-896c-789854f798a6",
   "metadata": {
    "id": "4cd1ce0e-be12-4436-896c-789854f798a6"
   },
   "outputs": [],
   "source": [
    "# split global train dataset in train and validation datasets\n",
    "\n",
    "X_train_split, X_val, y_train_split, y_val = train_test_split(X_train, y_train_one_hot, test_size=0.25, random_state=42)"
   ]
  },
  {
   "cell_type": "code",
   "execution_count": 86,
   "id": "c214c3dc-53db-443b-bb8c-34ff8b6845fb",
   "metadata": {},
   "outputs": [
    {
     "name": "stdout",
     "output_type": "stream",
     "text": [
      "Train: 630, Val: 210, Test: 210\n"
     ]
    }
   ],
   "source": [
    "print(f\"Train: {len(X_train_split)}, Val: {len(X_val)}, Test: {len(X_test)}\")"
   ]
  },
  {
   "cell_type": "markdown",
   "id": "3677d9a7-e6ef-4fda-9ba4-71f20e61adc7",
   "metadata": {
    "id": "3677d9a7-e6ef-4fda-9ba4-71f20e61adc7"
   },
   "source": [
    "---\n",
    "### 5.2.3 - Création du modèle :"
   ]
  },
  {
   "cell_type": "markdown",
   "id": "a42499f3-5094-4efd-8a3b-7cea356198e7",
   "metadata": {
    "id": "a42499f3-5094-4efd-8a3b-7cea356198e7"
   },
   "source": [
    "**Stratégie de modèle :**  \n",
    "\n",
    "Grâce au Tuner de Keras, recherche des hyperparamètres optimaux\n",
    "\n",
    "* Chargement vgg-16 sans la tête de classification : `include_top=False`\n",
    "* Conservation des poids pré-entraînés : `layer.trainable = False`\n",
    "* Ajout d'une tête de classification adaptée à notre analyse :\n",
    "    - `Pooling`\n",
    "    - `Dense - activation ReLU`\n",
    "    - `Dropout` afin de réduire le surapprentissage\n",
    "    - `Dense(7, activation='softmax')` couche de classification\n",
    "* Compilation du modèle avec un optimizer : `optimizer='adam'` [https://keras.io/api/optimizers/](https://keras.io/api/optimizers/)"
   ]
  },
  {
   "cell_type": "code",
   "execution_count": 87,
   "id": "CzZYU9IzbmEr",
   "metadata": {
    "id": "CzZYU9IzbmEr"
   },
   "outputs": [],
   "source": [
    "def model_builder(hp):\n",
    "\n",
    "    # load the pretrained VGG16 model\n",
    "    base_model = VGG16(include_top=False, input_shape=(224, 224, 3))\n",
    "\n",
    "    # tune the number of layers to keep with minimum : 2\n",
    "    num_conv_layers_to_keep = hp.Int('conv_layers', \n",
    "                                     min_value=2, \n",
    "                                     max_value=len(base_model.layers), \n",
    "                                     step=1\n",
    "                                    )\n",
    "\n",
    "    # create a new sequential model\n",
    "    model = models.Sequential()\n",
    "\n",
    "    # add selected convolutional layers from the base VGG16 model\n",
    "    for layer in base_model.layers[:num_conv_layers_to_keep]:\n",
    "        model.add(layer)\n",
    "\n",
    "    # freeze the layers to keep them non-trainable\n",
    "    for layer in model.layers:\n",
    "        layer.trainable = False\n",
    "\n",
    "    # add a pooling layer\n",
    "    model.add(layers.GlobalAveragePooling2D())\n",
    "\n",
    "    # tune the number of units in the dense layer\n",
    "    hp_units = hp.Int('units', min_value=32, max_value=512, step=32)\n",
    "    model.add(layers.Dense(units=hp_units, activation='relu'))\n",
    "\n",
    "    # tune the dropout rate\n",
    "    hp_units_dropout = hp.Float('dropout', \n",
    "                                min_value=0.2, \n",
    "                                max_value=0.8, \n",
    "                                step=0.1\n",
    "                               )\n",
    "    model.add(layers.Dropout(rate=hp_units_dropout))\n",
    "\n",
    "    # add the final dense layer for classification\n",
    "    model.add(layers.Dense(7, activation='softmax'))\n",
    "\n",
    "    # compile the model\n",
    "    hp_learning_rate = hp.Choice('learning_rate', values=[1e-2, 1e-3, 1e-4])\n",
    "    model.compile(optimizer=Adam(learning_rate=hp_learning_rate),\n",
    "                  loss='categorical_crossentropy',\n",
    "                  metrics=['accuracy'])\n",
    "\n",
    "    return model"
   ]
  },
  {
   "cell_type": "code",
   "execution_count": 88,
   "id": "1dac3e94-08f7-4b6c-9546-553f97e62ec5",
   "metadata": {},
   "outputs": [],
   "source": [
    "def model_builder(hp):\n",
    "\n",
    "    # load the pretrained VGG16 model\n",
    "    base_model = VGG16(include_top=False, input_shape=(224, 224, 3))\n",
    "\n",
    "    # tune the number of layers to keep with minimum : 2\n",
    "    num_conv_layers_to_keep = hp.Int('conv_layers', \n",
    "                                     min_value=2, \n",
    "                                     max_value=len(base_model.layers), \n",
    "                                     step=1\n",
    "                                    )\n",
    "\n",
    "    # create a new sequential model\n",
    "    model = models.Sequential()\n",
    "\n",
    "    # add selected convolutional layers from the base VGG16 model\n",
    "    for layer in base_model.layers[:num_conv_layers_to_keep]:\n",
    "        model.add(layer)\n",
    "\n",
    "    # freeze the layers to keep them non-trainable\n",
    "    for layer in model.layers:\n",
    "        layer.trainable = False\n",
    "\n",
    "    # add a pooling layer\n",
    "    model.add(layers.GlobalAveragePooling2D())\n",
    "\n",
    "    # tune the number of units in the dense layer\n",
    "    hp_units = hp.Int('units', min_value=32, max_value=512, step=32)\n",
    "    model.add(layers.Dense(units=hp_units, activation='relu'))\n",
    "\n",
    "    # tune the dropout rate\n",
    "    hp_units_dropout = hp.Float('dropout', \n",
    "                                min_value=0.2, \n",
    "                                max_value=0.8, \n",
    "                                step=0.1\n",
    "                               )\n",
    "    model.add(layers.Dropout(rate=hp_units_dropout))\n",
    "\n",
    "    # add the final dense layer for classification\n",
    "    model.add(layers.Dense(7, activation='softmax'))\n",
    "\n",
    "    # compile the model\n",
    "    hp_learning_rate = hp.Choice('learning_rate', values=[1e-2, 1e-3, 1e-4])\n",
    "    model.compile(optimizer=Adam(learning_rate=hp_learning_rate),\n",
    "                  loss='categorical_crossentropy',\n",
    "                  metrics=['accuracy'])\n",
    "\n",
    "    return model"
   ]
  },
  {
   "cell_type": "markdown",
   "id": "ca3fb6a0-dd1a-4039-9ae3-3bb2ea03628b",
   "metadata": {
    "id": "ca3fb6a0-dd1a-4039-9ae3-3bb2ea03628b"
   },
   "source": [
    "---\n",
    "### 5.2.4 - Entraînement sans **Data augmentation**"
   ]
  },
  {
   "cell_type": "markdown",
   "id": "22067236-c051-48cd-8574-92a2252c0172",
   "metadata": {
    "id": "22067236-c051-48cd-8574-92a2252c0172"
   },
   "source": [
    "**Instanciation du tuner Keras :**"
   ]
  },
  {
   "cell_type": "code",
   "execution_count": 89,
   "id": "mB1UdJRyuyI1",
   "metadata": {
    "colab": {
     "base_uri": "https://localhost:8080/"
    },
    "id": "mB1UdJRyuyI1",
    "outputId": "72bceda7-8687-4578-989e-483a362df84a"
   },
   "outputs": [
    {
     "name": "stdout",
     "output_type": "stream",
     "text": [
      "INFO:tensorflow:Reloading Tuner from keras_trainer/kt/tuner0.json\n"
     ]
    }
   ],
   "source": [
    "# tuner instance\n",
    "\n",
    "tuner = kt.Hyperband(model_builder,\n",
    "                     objective='val_accuracy',\n",
    "                     max_epochs=50,\n",
    "                     factor=3,\n",
    "                     directory='keras_trainer',\n",
    "                     project_name='kt')\n",
    "\n",
    "stop_early = tf.keras.callbacks.EarlyStopping(monitor='val_loss', \n",
    "                                              patience=5, \n",
    "                                              restore_best_weights=True\n",
    "                                             )"
   ]
  },
  {
   "cell_type": "markdown",
   "id": "44d38068-1930-4621-a586-037ec659c247",
   "metadata": {
    "id": "44d38068-1930-4621-a586-037ec659c247"
   },
   "source": [
    "**Recherche des hyperparamètres optimaux :**"
   ]
  },
  {
   "cell_type": "code",
   "execution_count": 90,
   "id": "uqaffss8uyF1",
   "metadata": {
    "colab": {
     "base_uri": "https://localhost:8080/"
    },
    "id": "uqaffss8uyF1",
    "outputId": "f05197b0-3903-4a75-da35-eb91e5cd6e87"
   },
   "outputs": [
    {
     "name": "stdout",
     "output_type": "stream",
     "text": [
      "INFO:tensorflow:Oracle triggered exit\n",
      "\n",
      "The hyperparameter search is complete. The optimal number of units in the first densely-connected\n",
      "layer is 320 and the optimal learning rate for the optimizer\n",
      "is 0.001.\n",
      "\n"
     ]
    }
   ],
   "source": [
    "# search for optimal hyperparameters\n",
    "\n",
    "tuner.search(X_train_split, \n",
    "             y_train_split,\n",
    "             validation_data=(X_val, y_val),\n",
    "             epochs=50, \n",
    "             callbacks=[stop_early]\n",
    "            )\n",
    "\n",
    "# get the optimal hyperparameters\n",
    "best_hps=tuner.get_best_hyperparameters(num_trials=1)[0]\n",
    "\n",
    "print(f\"\"\"\n",
    "The hyperparameter search is complete. The optimal number of units in the first densely-connected\n",
    "layer is {best_hps.get('units')} and the optimal learning rate for the optimizer\n",
    "is {best_hps.get('learning_rate')}.\n",
    "\"\"\")"
   ]
  },
  {
   "cell_type": "markdown",
   "id": "c81acccd-4867-4326-a295-384b70e0e105",
   "metadata": {
    "id": "c81acccd-4867-4326-a295-384b70e0e105"
   },
   "source": [
    "**Recherche du nombre d'epochs nécessaires pour former le modèle :**"
   ]
  },
  {
   "cell_type": "code",
   "execution_count": 91,
   "id": "imR2NfQ7uyDm",
   "metadata": {
    "colab": {
     "base_uri": "https://localhost:8080/"
    },
    "id": "imR2NfQ7uyDm",
    "outputId": "c09a9947-5356-456e-90ea-db1af7937ba5",
    "scrolled": true
   },
   "outputs": [
    {
     "name": "stdout",
     "output_type": "stream",
     "text": [
      "Epoch 1/50\n",
      "20/20 [==============================] - 41s 2s/step - loss: 2.6743 - accuracy: 0.5032 - val_loss: 0.8666 - val_accuracy: 0.7952\n",
      "Epoch 2/50\n",
      "20/20 [==============================] - 36s 2s/step - loss: 0.9226 - accuracy: 0.7810 - val_loss: 0.7917 - val_accuracy: 0.7905\n",
      "Epoch 3/50\n",
      "20/20 [==============================] - 49s 3s/step - loss: 0.4714 - accuracy: 0.8429 - val_loss: 0.7273 - val_accuracy: 0.8095\n",
      "Epoch 4/50\n",
      "20/20 [==============================] - 36s 2s/step - loss: 0.3306 - accuracy: 0.9016 - val_loss: 0.7345 - val_accuracy: 0.8143\n",
      "Epoch 5/50\n",
      "20/20 [==============================] - 48s 2s/step - loss: 0.1749 - accuracy: 0.9397 - val_loss: 0.7574 - val_accuracy: 0.8190\n",
      "Epoch 6/50\n",
      "20/20 [==============================] - 38s 2s/step - loss: 0.1376 - accuracy: 0.9540 - val_loss: 0.7404 - val_accuracy: 0.8238\n",
      "Epoch 7/50\n",
      "20/20 [==============================] - 39s 2s/step - loss: 0.1170 - accuracy: 0.9619 - val_loss: 0.7737 - val_accuracy: 0.8238\n",
      "Epoch 8/50\n",
      "20/20 [==============================] - 41s 2s/step - loss: 0.0916 - accuracy: 0.9635 - val_loss: 0.7441 - val_accuracy: 0.8286\n",
      "Best epoch: 8\n"
     ]
    }
   ],
   "source": [
    "# search number of epochs needed to create the model\n",
    "\n",
    "model = tuner.hypermodel.build(best_hps)\n",
    "history = model.fit(X_train_split, \n",
    "                    y_train_split,\n",
    "                    validation_data=(X_val, y_val),\n",
    "                    epochs=50, \n",
    "                    callbacks=[stop_early]\n",
    "                    )\n",
    "\n",
    "val_acc_per_epoch = history.history['val_accuracy']\n",
    "best_epoch = val_acc_per_epoch.index(max(val_acc_per_epoch)) + 1\n",
    "print('Best epoch: %d' % (best_epoch,))"
   ]
  },
  {
   "cell_type": "markdown",
   "id": "c24a0a2f-cb6b-401f-8f58-5da2a5867a64",
   "metadata": {
    "id": "c24a0a2f-cb6b-401f-8f58-5da2a5867a64"
   },
   "source": [
    "**Entrainement du modèle avec les hyperparamètres optimaux et le nombre d'époques nécessaires :**"
   ]
  },
  {
   "cell_type": "code",
   "execution_count": 92,
   "id": "08RoErrNux_t",
   "metadata": {
    "colab": {
     "base_uri": "https://localhost:8080/"
    },
    "id": "08RoErrNux_t",
    "outputId": "339f6899-04c7-472a-fbae-a8ccb07e053f"
   },
   "outputs": [
    {
     "name": "stdout",
     "output_type": "stream",
     "text": [
      "Epoch 1/8\n",
      "20/20 [==============================] - 39s 2s/step - loss: 2.9227 - accuracy: 0.4873 - val_loss: 0.9608 - val_accuracy: 0.7524\n",
      "Epoch 2/8\n",
      "20/20 [==============================] - 36s 2s/step - loss: 0.9190 - accuracy: 0.7841 - val_loss: 0.8252 - val_accuracy: 0.8048\n",
      "Epoch 3/8\n",
      "20/20 [==============================] - 36s 2s/step - loss: 0.5540 - accuracy: 0.8476 - val_loss: 0.7350 - val_accuracy: 0.8000\n",
      "Epoch 4/8\n",
      "20/20 [==============================] - 39s 2s/step - loss: 0.3181 - accuracy: 0.8873 - val_loss: 0.7570 - val_accuracy: 0.8048\n",
      "Epoch 5/8\n",
      "20/20 [==============================] - 36s 2s/step - loss: 0.1761 - accuracy: 0.9444 - val_loss: 0.6920 - val_accuracy: 0.8190\n",
      "Epoch 6/8\n",
      "20/20 [==============================] - 40s 2s/step - loss: 0.1721 - accuracy: 0.9397 - val_loss: 0.8046 - val_accuracy: 0.8048\n",
      "Epoch 7/8\n",
      "20/20 [==============================] - 36s 2s/step - loss: 0.1545 - accuracy: 0.9508 - val_loss: 0.7659 - val_accuracy: 0.8190\n",
      "Epoch 8/8\n",
      "20/20 [==============================] - 48s 2s/step - loss: 0.0933 - accuracy: 0.9714 - val_loss: 0.7621 - val_accuracy: 0.8190\n"
     ]
    },
    {
     "data": {
      "text/plain": [
       "<keras.callbacks.History at 0x75f34a276550>"
      ]
     },
     "execution_count": 92,
     "metadata": {},
     "output_type": "execute_result"
    }
   ],
   "source": [
    "# build hypermodel\n",
    "\n",
    "hypermodel = tuner.hypermodel.build(best_hps)\n",
    "\n",
    "# retrain the hypermodel\n",
    "hypermodel.fit(X_train_split, \n",
    "               y_train_split, \n",
    "               validation_data=(X_val, y_val),\n",
    "               epochs=best_epoch\n",
    "              )"
   ]
  },
  {
   "cell_type": "markdown",
   "id": "c9ee74bd-ccff-4cbb-8ccf-3ad9ddd29185",
   "metadata": {
    "id": "c9ee74bd-ccff-4cbb-8ccf-3ad9ddd29185"
   },
   "source": [
    "**Evaluation du modèle :**"
   ]
  },
  {
   "cell_type": "code",
   "execution_count": 93,
   "id": "XRElBajoux75",
   "metadata": {
    "colab": {
     "base_uri": "https://localhost:8080/"
    },
    "id": "XRElBajoux75",
    "outputId": "efd61175-9576-4b65-ed84-969ac5043750"
   },
   "outputs": [
    {
     "name": "stdout",
     "output_type": "stream",
     "text": [
      "27/27 [==============================] - 36s 1s/step - loss: 0.2019 - accuracy: 0.9548\n",
      "[train loss, train accuracy]: [0.20189228653907776, 0.9547619223594666]\n"
     ]
    }
   ],
   "source": [
    "# evaluate train\n",
    "\n",
    "train_result = hypermodel.evaluate(X_train, y_train_one_hot)\n",
    "print(\"[train loss, train accuracy]:\", train_result)"
   ]
  },
  {
   "cell_type": "code",
   "execution_count": 94,
   "id": "MMQ8mKdmuxyl",
   "metadata": {
    "colab": {
     "base_uri": "https://localhost:8080/"
    },
    "id": "MMQ8mKdmuxyl",
    "outputId": "c81d2632-127b-47f6-8c13-021d7980bb62"
   },
   "outputs": [
    {
     "name": "stdout",
     "output_type": "stream",
     "text": [
      "7/7 [==============================] - 9s 1s/step - loss: 0.7826 - accuracy: 0.8238\n",
      "[test loss, test accuracy]: [0.7826021313667297, 0.8238095045089722]\n"
     ]
    }
   ],
   "source": [
    "# evaluate test\n",
    "\n",
    "eval_result = hypermodel.evaluate(X_test, y_test_one_hot)\n",
    "print(\"[test loss, test accuracy]:\", eval_result)"
   ]
  },
  {
   "cell_type": "markdown",
   "id": "880e0faf-8ced-4c1f-9952-12bc1bc6ff1f",
   "metadata": {
    "id": "880e0faf-8ced-4c1f-9952-12bc1bc6ff1f"
   },
   "source": [
    "**Commentaires :**  \n",
    "Train : 0.972  \n",
    "Test : 0.809  \n",
    "\n",
    "Le modèle est en surapprentissage."
   ]
  },
  {
   "cell_type": "markdown",
   "id": "7f000bb7-3198-49fa-8dac-c10d5b506cc8",
   "metadata": {
    "id": "7f000bb7-3198-49fa-8dac-c10d5b506cc8"
   },
   "source": [
    "---\n",
    "### 5.2.5 - Entraînement avec **Data augmentation**"
   ]
  },
  {
   "cell_type": "markdown",
   "id": "48b7558e-ca74-45ee-8de8-0a5041d40987",
   "metadata": {
    "id": "48b7558e-ca74-45ee-8de8-0a5041d40987"
   },
   "source": [
    "Génération d'images supplémentaires afin d'agrandir le dataset d'entrainement :\n",
    "\n",
    "Ajout d'images avec :\n",
    "* Rotation aléatoire entre +/- 20°\n",
    "* Translation horizontale gauche ou droite jusqu'à 20%\n",
    "* Translation verticale haut ou bas jusqu'à 20%\n",
    "* Cisaillement (déformation) de l'image avec un angle maximum de 20°\n",
    "* Zoom aléatoire : agrandissement ou réduction de la taille jusqu'à 20%\n",
    "* Inversion horizontale de l'image\n",
    "* Remplissage des pixels vides par la valeurs de pixels voisins"
   ]
  },
  {
   "cell_type": "code",
   "execution_count": 95,
   "id": "cbcdabf2-f439-4a93-a90c-87d1b5db71d9",
   "metadata": {
    "id": "cbcdabf2-f439-4a93-a90c-87d1b5db71d9"
   },
   "outputs": [],
   "source": [
    "# train generator preparation\n",
    "\n",
    "train_datagen = ImageDataGenerator(\n",
    "        rotation_range=20,\n",
    "        width_shift_range=0.2,\n",
    "        height_shift_range=0.2,\n",
    "        shear_range=0.2,\n",
    "        zoom_range=0.8,\n",
    "        horizontal_flip=True,\n",
    "        fill_mode='nearest')\n",
    "\n",
    "# validation generator preparation without data augmentation\n",
    "\n",
    "val_datagen = ImageDataGenerator()"
   ]
  },
  {
   "cell_type": "code",
   "execution_count": 96,
   "id": "EHlk8hj-BcyO",
   "metadata": {
    "id": "EHlk8hj-BcyO"
   },
   "outputs": [],
   "source": [
    "# datasets with data augmentation\n",
    "\n",
    "train_generator = train_datagen.flow(X_train_split, y_train_split, batch_size=64)\n",
    "val_generator = val_datagen.flow(X_val, y_val, batch_size=64)"
   ]
  },
  {
   "cell_type": "markdown",
   "id": "79698449-e0b8-4d68-9658-59056382e083",
   "metadata": {
    "id": "79698449-e0b8-4d68-9658-59056382e083"
   },
   "source": [
    "**Instanciation du tuner Keras :**"
   ]
  },
  {
   "cell_type": "code",
   "execution_count": 97,
   "id": "dceb3d6c-4883-4e7e-83f1-3631f8b483c9",
   "metadata": {
    "id": "dceb3d6c-4883-4e7e-83f1-3631f8b483c9"
   },
   "outputs": [
    {
     "name": "stdout",
     "output_type": "stream",
     "text": [
      "INFO:tensorflow:Reloading Tuner from keras_trainer_DA/kt_DA2/tuner0.json\n"
     ]
    }
   ],
   "source": [
    "# instance Keras tuner\n",
    "\n",
    "tuner_DA = kt.Hyperband(model_builder,\n",
    "                     objective='val_accuracy',\n",
    "                     max_epochs=50,\n",
    "                     factor=3,\n",
    "                     directory='keras_trainer_DA',\n",
    "                     project_name='kt_DA2')\n",
    "\n",
    "stop_early = tf.keras.callbacks.EarlyStopping(monitor='val_loss', \n",
    "                                              patience=5, \n",
    "                                              restore_best_weights=True\n",
    "                                             )"
   ]
  },
  {
   "cell_type": "markdown",
   "id": "a1991bc2-aa71-44a7-ab66-d100d4672e6c",
   "metadata": {
    "id": "a1991bc2-aa71-44a7-ab66-d100d4672e6c"
   },
   "source": [
    "**Recherche des hyperparamètres optimaux :**"
   ]
  },
  {
   "cell_type": "code",
   "execution_count": 98,
   "id": "ccf10585-8f6a-44ed-a275-b83fb4239111",
   "metadata": {
    "colab": {
     "base_uri": "https://localhost:8080/"
    },
    "id": "ccf10585-8f6a-44ed-a275-b83fb4239111",
    "outputId": "f57b7d14-dd13-4f64-d285-c9c7dfe5df84",
    "scrolled": true
   },
   "outputs": [
    {
     "name": "stdout",
     "output_type": "stream",
     "text": [
      "INFO:tensorflow:Oracle triggered exit\n",
      "\n",
      "The hyperparameter search is complete. The optimal number of units in the first densely-connected\n",
      "layer is 480 and the optimal learning rate for the optimizer\n",
      "is 0.01.\n",
      "\n"
     ]
    }
   ],
   "source": [
    "# search hyperparameters\n",
    "\n",
    "tuner_DA.search(train_generator,\n",
    "             validation_data=val_generator,\n",
    "             epochs=50,\n",
    "             callbacks=[stop_early])\n",
    "\n",
    "# Get the optimal hyperparameters\n",
    "best_hps_DA=tuner_DA.get_best_hyperparameters(num_trials=1)[0]\n",
    "\n",
    "print(f\"\"\"\n",
    "The hyperparameter search is complete. The optimal number of units in the first densely-connected\n",
    "layer is {best_hps_DA.get('units')} and the optimal learning rate for the optimizer\n",
    "is {best_hps_DA.get('learning_rate')}.\n",
    "\"\"\")"
   ]
  },
  {
   "cell_type": "markdown",
   "id": "1e0794d2-a9c6-4361-ba34-ac9c63a90e0b",
   "metadata": {
    "id": "1e0794d2-a9c6-4361-ba34-ac9c63a90e0b"
   },
   "source": [
    "**Recherche du nombre d'epochs nécessaires pour former le modèle :**"
   ]
  },
  {
   "cell_type": "code",
   "execution_count": 99,
   "id": "f7a26e94-b21c-4fa7-971b-33f2f19377a8",
   "metadata": {
    "colab": {
     "base_uri": "https://localhost:8080/"
    },
    "id": "f7a26e94-b21c-4fa7-971b-33f2f19377a8",
    "outputId": "7e73b3d1-0fc0-4963-dbae-3af1e28329f1",
    "scrolled": true
   },
   "outputs": [
    {
     "name": "stdout",
     "output_type": "stream",
     "text": [
      "Epoch 1/50\n",
      "10/10 [==============================] - 39s 4s/step - loss: 7.0484 - accuracy: 0.3587 - val_loss: 2.1953 - val_accuracy: 0.7048\n",
      "Epoch 2/50\n",
      "10/10 [==============================] - 37s 4s/step - loss: 1.3285 - accuracy: 0.6413 - val_loss: 0.6974 - val_accuracy: 0.7667\n",
      "Epoch 3/50\n",
      "10/10 [==============================] - 37s 4s/step - loss: 0.9345 - accuracy: 0.6825 - val_loss: 0.6917 - val_accuracy: 0.7524\n",
      "Epoch 4/50\n",
      "10/10 [==============================] - 40s 4s/step - loss: 0.9050 - accuracy: 0.7238 - val_loss: 0.6053 - val_accuracy: 0.8000\n",
      "Epoch 5/50\n",
      "10/10 [==============================] - 38s 4s/step - loss: 0.6821 - accuracy: 0.7683 - val_loss: 0.6604 - val_accuracy: 0.8095\n",
      "Epoch 6/50\n",
      "10/10 [==============================] - 39s 4s/step - loss: 0.7430 - accuracy: 0.7524 - val_loss: 0.6946 - val_accuracy: 0.8048\n",
      "Epoch 7/50\n",
      "10/10 [==============================] - 36s 4s/step - loss: 0.6557 - accuracy: 0.7746 - val_loss: 0.6553 - val_accuracy: 0.8286\n",
      "Epoch 8/50\n",
      "10/10 [==============================] - 38s 4s/step - loss: 0.5923 - accuracy: 0.7889 - val_loss: 0.7325 - val_accuracy: 0.8095\n",
      "Epoch 9/50\n",
      "10/10 [==============================] - 38s 4s/step - loss: 0.5685 - accuracy: 0.8127 - val_loss: 0.6466 - val_accuracy: 0.8048\n",
      "Best epoch: 7\n"
     ]
    }
   ],
   "source": [
    "# search number of epochs needed to create the model\n",
    "\n",
    "model_DA = tuner_DA.hypermodel.build(best_hps_DA)\n",
    "history = model_DA.fit(train_generator,\n",
    "                       validation_data=val_generator,\n",
    "                       epochs=50,\n",
    "                       callbacks=[stop_early]\n",
    "                      )\n",
    "\n",
    "val_acc_per_epoch = history.history['val_accuracy']\n",
    "best_epoch = val_acc_per_epoch.index(max(val_acc_per_epoch)) + 1\n",
    "print('Best epoch: %d' % (best_epoch,))"
   ]
  },
  {
   "cell_type": "markdown",
   "id": "f5197db9-938e-4d99-93cc-191092d7ef7d",
   "metadata": {
    "id": "f5197db9-938e-4d99-93cc-191092d7ef7d"
   },
   "source": [
    "**Entrainement du modèle avec les hyperparamètres optimaux et le nombre d'époques nécessaires :**"
   ]
  },
  {
   "cell_type": "code",
   "execution_count": 100,
   "id": "5df081ca-3287-408d-9120-3c9dc93a2cf8",
   "metadata": {
    "colab": {
     "base_uri": "https://localhost:8080/"
    },
    "id": "5df081ca-3287-408d-9120-3c9dc93a2cf8",
    "outputId": "125efc0a-af49-4d18-c8d4-ae3261445aba",
    "scrolled": true
   },
   "outputs": [
    {
     "name": "stdout",
     "output_type": "stream",
     "text": [
      "Epoch 1/7\n",
      "10/10 [==============================] - 39s 4s/step - loss: 5.4995 - accuracy: 0.3952 - val_loss: 1.2020 - val_accuracy: 0.7381\n",
      "Epoch 2/7\n",
      "10/10 [==============================] - 40s 4s/step - loss: 1.1843 - accuracy: 0.6683 - val_loss: 0.7136 - val_accuracy: 0.7762\n",
      "Epoch 3/7\n",
      "10/10 [==============================] - 37s 4s/step - loss: 0.8189 - accuracy: 0.7095 - val_loss: 0.6439 - val_accuracy: 0.8048\n",
      "Epoch 4/7\n",
      "10/10 [==============================] - 39s 4s/step - loss: 0.7325 - accuracy: 0.7492 - val_loss: 0.6834 - val_accuracy: 0.7810\n",
      "Epoch 5/7\n",
      "10/10 [==============================] - 37s 4s/step - loss: 0.7328 - accuracy: 0.7635 - val_loss: 0.6144 - val_accuracy: 0.7905\n",
      "Epoch 6/7\n",
      "10/10 [==============================] - 38s 4s/step - loss: 0.6498 - accuracy: 0.7937 - val_loss: 0.6176 - val_accuracy: 0.7952\n",
      "Epoch 7/7\n",
      "10/10 [==============================] - 38s 4s/step - loss: 0.5989 - accuracy: 0.8032 - val_loss: 0.7321 - val_accuracy: 0.7857\n"
     ]
    },
    {
     "data": {
      "text/plain": [
       "<keras.callbacks.History at 0x75f26fd7ce10>"
      ]
     },
     "execution_count": 100,
     "metadata": {},
     "output_type": "execute_result"
    }
   ],
   "source": [
    "# train model with best hyperparameters and epochs\n",
    "\n",
    "hypermodel_DA = tuner_DA.hypermodel.build(best_hps_DA)\n",
    "\n",
    "# Retrain the model\n",
    "hypermodel_DA.fit(train_generator,\n",
    "                  validation_data=val_generator,\n",
    "                  epochs=best_epoch\n",
    "                 )"
   ]
  },
  {
   "cell_type": "markdown",
   "id": "0ff03288-adf7-40fe-a467-70eaf9a7a7ca",
   "metadata": {
    "id": "0ff03288-adf7-40fe-a467-70eaf9a7a7ca"
   },
   "source": [
    "**Evaluation du modèle :**"
   ]
  },
  {
   "cell_type": "code",
   "execution_count": 101,
   "id": "d6749835-3b73-43f6-a6ea-30ca04028342",
   "metadata": {
    "colab": {
     "base_uri": "https://localhost:8080/"
    },
    "id": "d6749835-3b73-43f6-a6ea-30ca04028342",
    "outputId": "e051db9a-c7b0-4328-f03f-332d92976cac"
   },
   "outputs": [
    {
     "name": "stdout",
     "output_type": "stream",
     "text": [
      "27/27 [==============================] - 36s 1s/step - loss: 0.3366 - accuracy: 0.8964\n",
      "[train loss, train accuracy]: [0.33660221099853516, 0.8964285850524902]\n"
     ]
    }
   ],
   "source": [
    "# evaluate train\n",
    "\n",
    "train_result_DA = hypermodel_DA.evaluate(X_train, y_train_one_hot)\n",
    "print(\"[train loss, train accuracy]:\", train_result_DA)"
   ]
  },
  {
   "cell_type": "code",
   "execution_count": 102,
   "id": "2d17623e-0ced-492c-a6f6-632179e87486",
   "metadata": {
    "colab": {
     "base_uri": "https://localhost:8080/"
    },
    "id": "2d17623e-0ced-492c-a6f6-632179e87486",
    "outputId": "c2a0669c-2057-44e6-9b0a-69d51b6f095f"
   },
   "outputs": [
    {
     "name": "stdout",
     "output_type": "stream",
     "text": [
      "7/7 [==============================] - 11s 2s/step - loss: 0.8783 - accuracy: 0.8333\n",
      "[test loss, test accuracy]: [0.8782837390899658, 0.8333333134651184]\n"
     ]
    }
   ],
   "source": [
    "# evaluate test\n",
    "\n",
    "eval_result_DA = hypermodel_DA.evaluate(X_test, y_test_one_hot)\n",
    "print(\"[test loss, test accuracy]:\", eval_result_DA)"
   ]
  },
  {
   "cell_type": "markdown",
   "id": "d528caca-d706-4006-8c75-253bc0413b86",
   "metadata": {
    "id": "d528caca-d706-4006-8c75-253bc0413b86"
   },
   "source": [
    "**Commentaires :**  \n",
    "Train : 0.838  \n",
    "Test : 0.802  \n",
    "\n",
    "Avec la Data Augmentation, on réussit à stabiliser l'apprentissage du modèle."
   ]
  },
  {
   "cell_type": "code",
   "execution_count": 33,
   "id": "0f624b5d-4bcc-4c77-92f2-d9d56c8edb6b",
   "metadata": {
    "id": "0f624b5d-4bcc-4c77-92f2-d9d56c8edb6b"
   },
   "outputs": [],
   "source": [
    "# save model\n",
    "\n",
    "hypermodel.save('hypermodel2.keras')"
   ]
  },
  {
   "cell_type": "code",
   "execution_count": 103,
   "id": "e7d76fca-ba01-4f1f-8403-7e6b76c270fc",
   "metadata": {},
   "outputs": [],
   "source": [
    "hypermodel_DA.save('hypermodel_DA.keras')"
   ]
  },
  {
   "cell_type": "code",
   "execution_count": 104,
   "id": "6c48d971-7954-4e8c-b496-510faf596081",
   "metadata": {},
   "outputs": [],
   "source": [
    "model = load_model('hypermodel_DA.keras')"
   ]
  },
  {
   "cell_type": "code",
   "execution_count": 105,
   "id": "76b7698c-3dd1-45db-a3ca-61d45532362d",
   "metadata": {},
   "outputs": [
    {
     "name": "stdout",
     "output_type": "stream",
     "text": [
      "Model: \"sequential_8\"\n",
      "_________________________________________________________________\n",
      " Layer (type)                Output Shape              Param #   \n",
      "=================================================================\n",
      " block1_conv1 (Conv2D)       (None, 224, 224, 64)      1792      \n",
      "                                                                 \n",
      " block1_conv2 (Conv2D)       (None, 224, 224, 64)      36928     \n",
      "                                                                 \n",
      " block1_pool (MaxPooling2D)  (None, 112, 112, 64)      0         \n",
      "                                                                 \n",
      " block2_conv1 (Conv2D)       (None, 112, 112, 128)     73856     \n",
      "                                                                 \n",
      " block2_conv2 (Conv2D)       (None, 112, 112, 128)     147584    \n",
      "                                                                 \n",
      " block2_pool (MaxPooling2D)  (None, 56, 56, 128)       0         \n",
      "                                                                 \n",
      " block3_conv1 (Conv2D)       (None, 56, 56, 256)       295168    \n",
      "                                                                 \n",
      " block3_conv2 (Conv2D)       (None, 56, 56, 256)       590080    \n",
      "                                                                 \n",
      " block3_conv3 (Conv2D)       (None, 56, 56, 256)       590080    \n",
      "                                                                 \n",
      " block3_pool (MaxPooling2D)  (None, 28, 28, 256)       0         \n",
      "                                                                 \n",
      " block4_conv1 (Conv2D)       (None, 28, 28, 512)       1180160   \n",
      "                                                                 \n",
      " block4_conv2 (Conv2D)       (None, 28, 28, 512)       2359808   \n",
      "                                                                 \n",
      " block4_conv3 (Conv2D)       (None, 28, 28, 512)       2359808   \n",
      "                                                                 \n",
      " block4_pool (MaxPooling2D)  (None, 14, 14, 512)       0         \n",
      "                                                                 \n",
      " block5_conv1 (Conv2D)       (None, 14, 14, 512)       2359808   \n",
      "                                                                 \n",
      " block5_conv2 (Conv2D)       (None, 14, 14, 512)       2359808   \n",
      "                                                                 \n",
      " block5_conv3 (Conv2D)       (None, 14, 14, 512)       2359808   \n",
      "                                                                 \n",
      " global_average_pooling2d_8   (None, 512)              0         \n",
      " (GlobalAveragePooling2D)                                        \n",
      "                                                                 \n",
      " dense_16 (Dense)            (None, 480)               246240    \n",
      "                                                                 \n",
      " dropout_8 (Dropout)         (None, 480)               0         \n",
      "                                                                 \n",
      " dense_17 (Dense)            (None, 7)                 3367      \n",
      "                                                                 \n",
      "=================================================================\n",
      "Total params: 14,964,295\n",
      "Trainable params: 249,607\n",
      "Non-trainable params: 14,714,688\n",
      "_________________________________________________________________\n",
      "None\n"
     ]
    }
   ],
   "source": [
    "print(model.summary())"
   ]
  },
  {
   "cell_type": "code",
   "execution_count": null,
   "id": "12aee7b6-e12b-4957-bcc6-d4d8e7146ce8",
   "metadata": {},
   "outputs": [],
   "source": []
  },
  {
   "cell_type": "code",
   "execution_count": 106,
   "id": "582f7e3c-1961-4ac4-adde-d10b42ed3825",
   "metadata": {},
   "outputs": [],
   "source": [
    "cat_list = ['category', 'encoded_category']\n",
    "df_cat = df[cat_list]"
   ]
  },
  {
   "cell_type": "code",
   "execution_count": 107,
   "id": "7be09752-24cc-407e-8e76-2d9f1970efb3",
   "metadata": {},
   "outputs": [],
   "source": [
    "cat = df_cat.drop_duplicates(subset=['category', 'encoded_category'])"
   ]
  },
  {
   "cell_type": "code",
   "execution_count": 108,
   "id": "f08563bb-e77e-44bd-a8f0-e9d18be9d2ce",
   "metadata": {},
   "outputs": [
    {
     "data": {
      "text/html": [
       "<div>\n",
       "<style scoped>\n",
       "    .dataframe tbody tr th:only-of-type {\n",
       "        vertical-align: middle;\n",
       "    }\n",
       "\n",
       "    .dataframe tbody tr th {\n",
       "        vertical-align: top;\n",
       "    }\n",
       "\n",
       "    .dataframe thead th {\n",
       "        text-align: right;\n",
       "    }\n",
       "</style>\n",
       "<table border=\"1\" class=\"dataframe\">\n",
       "  <thead>\n",
       "    <tr style=\"text-align: right;\">\n",
       "      <th></th>\n",
       "      <th>category</th>\n",
       "      <th>encoded_category</th>\n",
       "    </tr>\n",
       "  </thead>\n",
       "  <tbody>\n",
       "    <tr>\n",
       "      <th>0</th>\n",
       "      <td>Home Furnishing</td>\n",
       "      <td>4</td>\n",
       "    </tr>\n",
       "    <tr>\n",
       "      <th>1</th>\n",
       "      <td>Baby Care</td>\n",
       "      <td>0</td>\n",
       "    </tr>\n",
       "    <tr>\n",
       "      <th>5</th>\n",
       "      <td>Watches</td>\n",
       "      <td>6</td>\n",
       "    </tr>\n",
       "    <tr>\n",
       "      <th>36</th>\n",
       "      <td>Home Decor &amp; Festive Needs</td>\n",
       "      <td>3</td>\n",
       "    </tr>\n",
       "    <tr>\n",
       "      <th>37</th>\n",
       "      <td>Kitchen &amp; Dining</td>\n",
       "      <td>5</td>\n",
       "    </tr>\n",
       "    <tr>\n",
       "      <th>43</th>\n",
       "      <td>Beauty and Personal Care</td>\n",
       "      <td>1</td>\n",
       "    </tr>\n",
       "    <tr>\n",
       "      <th>47</th>\n",
       "      <td>Computers</td>\n",
       "      <td>2</td>\n",
       "    </tr>\n",
       "  </tbody>\n",
       "</table>\n",
       "</div>"
      ],
      "text/plain": [
       "                      category  encoded_category\n",
       "0              Home Furnishing                 4\n",
       "1                    Baby Care                 0\n",
       "5                      Watches                 6\n",
       "36  Home Decor & Festive Needs                 3\n",
       "37            Kitchen & Dining                 5\n",
       "43    Beauty and Personal Care                 1\n",
       "47                   Computers                 2"
      ]
     },
     "execution_count": 108,
     "metadata": {},
     "output_type": "execute_result"
    }
   ],
   "source": [
    "cat"
   ]
  },
  {
   "cell_type": "code",
   "execution_count": 109,
   "id": "8121bd24-d03e-408a-8655-2e486ce0cfbd",
   "metadata": {},
   "outputs": [],
   "source": [
    "cat_list = [\n",
    "    \"Baby Care\",\n",
    "    \"Beauty and Personal Care\",\n",
    "    \"Computers\",\n",
    "    \"Home Decor & Festive Needs\",\n",
    "    \"Home Furnishing\",\n",
    "    \"Kitchen & Dining\",\n",
    "    \"Watches\"\n",
    "]"
   ]
  },
  {
   "cell_type": "code",
   "execution_count": 110,
   "id": "f5e9e9ef-4f14-40d3-b090-b380c2a11d3a",
   "metadata": {},
   "outputs": [
    {
     "data": {
      "text/plain": [
       "array([[0., 0., 1., ..., 0., 0., 0.],\n",
       "       [0., 0., 0., ..., 0., 1., 0.],\n",
       "       [0., 0., 1., ..., 0., 0., 0.],\n",
       "       ...,\n",
       "       [1., 0., 0., ..., 0., 0., 0.],\n",
       "       [1., 0., 0., ..., 0., 0., 0.],\n",
       "       [0., 0., 0., ..., 0., 0., 0.]], dtype=float32)"
      ]
     },
     "execution_count": 110,
     "metadata": {},
     "output_type": "execute_result"
    }
   ],
   "source": [
    "y_test_one_hot"
   ]
  },
  {
   "cell_type": "code",
   "execution_count": 111,
   "id": "97321261-73d9-42c1-91c5-11d3174f317e",
   "metadata": {},
   "outputs": [],
   "source": [
    "y_test = np.argmax(y_test_one_hot, axis=1)"
   ]
  },
  {
   "cell_type": "code",
   "execution_count": 112,
   "id": "6ef0a157-ec51-4e1f-808a-99f18371a08f",
   "metadata": {},
   "outputs": [
    {
     "data": {
      "text/plain": [
       "array([2, 5, 2, 1, 6, 0, 3, 2, 4, 4, 6, 0, 5, 1, 2, 2, 0, 2, 4, 4, 5, 2,\n",
       "       0, 2, 6, 1, 3, 5, 1, 5, 5, 2, 2, 6, 3, 4, 6, 3, 3, 2, 4, 1, 5, 4,\n",
       "       1, 5, 5, 2, 0, 4, 5, 3, 5, 4, 2, 0, 1, 5, 2, 4, 4, 0, 6, 5, 6, 4,\n",
       "       0, 3, 4, 6, 0, 2, 2, 2, 6, 2, 4, 3, 2, 4, 4, 4, 2, 5, 2, 6, 4, 3,\n",
       "       3, 3, 4, 4, 5, 3, 6, 2, 0, 6, 3, 0, 4, 6, 3, 4, 2, 6, 1, 5, 4, 2,\n",
       "       5, 4, 4, 0, 0, 0, 2, 6, 6, 2, 2, 2, 3, 4, 5, 3, 1, 3, 0, 0, 5, 1,\n",
       "       0, 3, 0, 5, 3, 1, 5, 2, 5, 0, 3, 4, 4, 6, 6, 1, 3, 1, 6, 1, 6, 3,\n",
       "       2, 4, 6, 1, 3, 6, 6, 6, 0, 2, 3, 6, 6, 2, 6, 2, 6, 1, 4, 6, 0, 6,\n",
       "       3, 3, 4, 3, 0, 5, 4, 3, 0, 1, 0, 6, 2, 4, 1, 6, 5, 4, 5, 2, 1, 5,\n",
       "       2, 2, 1, 0, 4, 2, 1, 3, 6, 0, 0, 3])"
      ]
     },
     "execution_count": 112,
     "metadata": {},
     "output_type": "execute_result"
    }
   ],
   "source": [
    "y_test"
   ]
  },
  {
   "cell_type": "code",
   "execution_count": null,
   "id": "31ad2583-c7fc-44b2-bfb4-d6c15ffcb19c",
   "metadata": {},
   "outputs": [],
   "source": []
  },
  {
   "cell_type": "code",
   "execution_count": 113,
   "id": "618f955c-0dee-4409-a96e-c8d503e16e7a",
   "metadata": {},
   "outputs": [
    {
     "name": "stdout",
     "output_type": "stream",
     "text": [
      "7/7 [==============================] - 9s 1s/step\n"
     ]
    }
   ],
   "source": [
    "y_pred_one_hot = model.predict(X_test)"
   ]
  },
  {
   "cell_type": "code",
   "execution_count": 114,
   "id": "39e107e2-4bf8-400c-84d0-1f430eff38dc",
   "metadata": {},
   "outputs": [],
   "source": [
    "y_pred = np.argmax(y_pred_one_hot, axis=1)"
   ]
  },
  {
   "cell_type": "code",
   "execution_count": null,
   "id": "86430ecb-b5d8-4203-bc2e-a322f4aff836",
   "metadata": {},
   "outputs": [],
   "source": []
  },
  {
   "cell_type": "code",
   "execution_count": 115,
   "id": "e99094e0-fdcb-4409-b697-3fef0256994c",
   "metadata": {},
   "outputs": [
    {
     "name": "stdout",
     "output_type": "stream",
     "text": [
      "Accuracy: 0.8333\n",
      "Classification Report:\n",
      "                            precision    recall  f1-score   support\n",
      "\n",
      "                 Baby Care       0.67      0.81      0.73        27\n",
      "  Beauty and Personal Care       0.70      0.90      0.79        21\n",
      "                 Computers       0.92      0.92      0.92        38\n",
      "Home Decor & Festive Needs       0.75      0.70      0.72        30\n",
      "           Home Furnishing       0.87      0.74      0.80        35\n",
      "          Kitchen & Dining       1.00      0.81      0.89        26\n",
      "                   Watches       0.94      0.94      0.94        33\n",
      "\n",
      "                  accuracy                           0.83       210\n",
      "                 macro avg       0.84      0.83      0.83       210\n",
      "              weighted avg       0.85      0.83      0.84       210\n",
      "\n",
      "Confusion Matrix:\n",
      "[[22  2  0  0  3  0  0]\n",
      " [ 0 19  0  1  1  0  0]\n",
      " [ 2  0 35  1  0  0  0]\n",
      " [ 3  3  1 21  0  0  2]\n",
      " [ 5  0  0  4 26  0  0]\n",
      " [ 1  2  1  1  0 21  0]\n",
      " [ 0  1  1  0  0  0 31]]\n"
     ]
    }
   ],
   "source": [
    "from sklearn.metrics import accuracy_score, classification_report, confusion_matrix\n",
    "import numpy as np\n",
    "\n",
    "accuracy = accuracy_score(y_test, y_pred)\n",
    "print(f\"Accuracy: {accuracy:.4f}\")\n",
    "\n",
    "print(\"Classification Report:\")\n",
    "print(classification_report(y_test, y_pred, target_names=cat_list))\n",
    "\n",
    "print(\"Confusion Matrix:\")\n",
    "print(confusion_matrix(y_test, y_pred))"
   ]
  },
  {
   "cell_type": "code",
   "execution_count": 124,
   "id": "32b44b56-33d3-4d7e-b761-645ffca1d26f",
   "metadata": {},
   "outputs": [
    {
     "data": {
      "image/png": "[encoded data removed]",
      "text/plain": [
       "<Figure size 700x600 with 2 Axes>"
      ]
     },
     "metadata": {},
     "output_type": "display_data"
    }
   ],
   "source": [
    "import seaborn as sns\n",
    "cf_matrix = confusion_matrix(y_test, y_pred)\n",
    "plt.figure(figsize=(7, 6))  \n",
    "sns.heatmap(cf_matrix, annot=True, fmt='d', cmap='Blues',\n",
    "            xticklabels=cat_list, yticklabels=cat_list)\n",
    "\n",
    "plt.title(\"Model : VGG16\")\n",
    "plt.xlabel(\"Predicted\")\n",
    "plt.ylabel(\"Actual\")\n",
    "plt.xticks(rotation=90, ha=\"right\")  \n",
    "plt.yticks(rotation=0)  \n",
    "plt.tight_layout() \n",
    "plt.savefig('matrix.png')\n",
    "plt.show()"
   ]
  },
  {
   "cell_type": "markdown",
   "id": "1e7d2b36-a8cd-4e31-9757-71402942ef0b",
   "metadata": {},
   "source": [
    "---\n",
    "---\n",
    "## 5.3 - Conclusion :"
   ]
  },
  {
   "cell_type": "markdown",
   "id": "41c4d2f1-25ca-46b9-99da-365220c4487f",
   "metadata": {},
   "source": [
    "| Method                  | Train Loss | Train Accuracy |-| Test Loss | Test Accuracy |\n",
    "|-------------------------|------------|----------------|-|-----------|---------------|\n",
    "| Basic Dataset           | 0.116      | 0.972          |-| 0.776     | 0.81          |\n",
    "| With Data Augmentation  | 0.59       | 0.839          |-| 0.857     | 0.802         |"
   ]
  },
  {
   "cell_type": "markdown",
   "id": "962edabf-01c5-4750-a99d-1680f64415e3",
   "metadata": {},
   "source": [
    "Le modèle final, utilisant la **Data Augmentation**, parvient à atténuer le surapprentissage, ce qui permet une généralisation satisfaisante avec un score de précision (accuracy) modeste de 0.802 sur le jeu de données de test. Toutefois, des améliorations pourraient être envisagées avec l'intégration d'un jeu de données d'images plus conséquent. De plus, l'optimisation des hyperparamètres ou l'exploration de techniques avancées comme le fine-tuning d'un modèle pré-entraîné pourraient également contribuer à une amélioration des performances du modèle."
   ]
  },
  {
   "cell_type": "code",
   "execution_count": null,
   "id": "3298fc28-9aee-4246-8dc2-4e45b82e05d9",
   "metadata": {},
   "outputs": [],
   "source": []
  },
  {
   "cell_type": "code",
   "execution_count": null,
   "id": "96ac1b03-9a49-4290-b3a7-81227229e4b8",
   "metadata": {},
   "outputs": [],
   "source": []
  }
 ],
 "metadata": {
  "accelerator": "GPU",
  "colab": {
   "gpuType": "A100",
   "machine_shape": "hm",
   "provenance": []
  },
  "kernelspec": {
   "display_name": "Python [conda env:OC_3.7]",
   "language": "python",
   "name": "conda-env-OC_3.7-py"
  },
  "language_info": {
   "codemirror_mode": {
    "name": "ipython",
    "version": 3
   },
   "file_extension": ".py",
   "mimetype": "text/x-python",
   "name": "python",
   "nbconvert_exporter": "python",
   "pygments_lexer": "ipython3",
   "version": "3.7.12"
  }
 },
 "nbformat": 4,
 "nbformat_minor": 5
}
